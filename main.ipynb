{
 "cells": [
  {
   "attachments": {},
   "cell_type": "markdown",
   "metadata": {},
   "source": [
    "iter 2: Shorter df"
   ]
  },
  {
   "cell_type": "code",
   "execution_count": 68,
   "metadata": {},
   "outputs": [
    {
     "name": "stdout",
     "output_type": "stream",
     "text": [
      "adept\n",
      "adept\n",
      "Guesses left: 123\n",
      "worst\n",
      "Guesses left: 7\n",
      "hoist\n",
      "Guesses left: 1\n",
      "first\n",
      "The word is 'first'.\n"
     ]
    }
   ],
   "source": [
    "import random\n",
    "\n",
    "# Load a dictionary of 5-letter words\n",
    "with open('all_wordle_words.txt', 'r') as f:\n",
    "    wordlist = [line.strip() for line in f]\n",
    "english_words_alpha = wordlist.copy()\n",
    "english_words_alpha_set = set(english_words_alpha)\n",
    "\n",
    "# Define the length of the target word\n",
    "WORD_LENGTH = 5\n",
    "\n",
    "def get_candidate_words():\n",
    "    candidate_words = []\n",
    "    for word in english_words_alpha_set:\n",
    "        if len(word) == WORD_LENGTH:\n",
    "            candidate_words.append(word)\n",
    "    return candidate_words\n",
    "\n",
    "def get_feedback(guess):\n",
    "    greens = input(\"Enter the number of green letters: \")\n",
    "    yellows = input(\"Enter the number of yellow letters: \")\n",
    "    return int(greens), int(yellows)\n",
    "\n",
    "def filter_words(candidate_words, guess, greens, yellows):\n",
    "    remaining_words = []\n",
    "    for word in candidate_words:\n",
    "        if (sum([1 for i in range(WORD_LENGTH) if word[i] == guess[i]]) == greens\n",
    "            and sum([1 for i in range(WORD_LENGTH) if word[i] != guess[i] and word[i] in guess]) == yellows):\n",
    "            remaining_words.append(word)\n",
    "    return remaining_words\n",
    "\n",
    "def select_word(candidate_words):\n",
    "    if (len(candidate_words)==len(english_words_alpha)):\n",
    "        candidate_words.remove('adept')\n",
    "        a = 'adept'\n",
    "        print(a)\n",
    "        return 'adept'\n",
    "    else:\n",
    "        a=random.choice(candidate_words)\n",
    "        print(a)\n",
    "        return a\n",
    "\n",
    "def play_game():\n",
    "    candidate_words = get_candidate_words()\n",
    "    guess = select_word(candidate_words)\n",
    "    # print(guess)\n",
    "    \n",
    "    while len(candidate_words) > 1:\n",
    "        greens, yellows = get_feedback(guess)\n",
    "        candidate_words = filter_words(candidate_words, guess, greens, yellows)\n",
    "        print((\"Guesses left: \"+str(len(candidate_words))))\n",
    "        \n",
    "        if len(candidate_words) == 0:\n",
    "            print(\"No candidate words left! The game is over.\")\n",
    "            return\n",
    "        \n",
    "        guess = select_word(candidate_words)\n",
    "        # print(guess)\n",
    "        \n",
    "    print(f\"The word is '{candidate_words[0]}'.\")\n",
    "    \n",
    "play_game()"
   ]
  }
 ],
 "metadata": {
  "kernelspec": {
   "display_name": "Python 3",
   "language": "python",
   "name": "python3"
  },
  "language_info": {
   "codemirror_mode": {
    "name": "ipython",
    "version": 3
   },
   "file_extension": ".py",
   "mimetype": "text/x-python",
   "name": "python",
   "nbconvert_exporter": "python",
   "pygments_lexer": "ipython3",
   "version": "3.10.8"
  },
  "orig_nbformat": 4,
  "vscode": {
   "interpreter": {
    "hash": "4d536800d27c51602b26d7e23a7b347bd37d1d65ee7fdd104b4efc2c92c4d087"
   }
  }
 },
 "nbformat": 4,
 "nbformat_minor": 2
}
