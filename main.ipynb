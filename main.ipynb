{
 "cells": [
  {
   "attachments": {},
   "cell_type": "markdown",
   "metadata": {},
   "source": [
    "iter 2: Shorter df"
   ]
  },
  {
   "cell_type": "code",
   "execution_count": 6,
   "metadata": {},
   "outputs": [
    {
     "name": "stdout",
     "output_type": "stream",
     "text": [
      "adept\n",
      "Guesses left: 218\n",
      "anime\n",
      "Guesses left: 7\n",
      "gripe\n"
     ]
    },
    {
     "ename": "ValueError",
     "evalue": "invalid literal for int() with base 10: ''",
     "output_type": "error",
     "traceback": [
      "\u001b[1;31m---------------------------------------------------------------------------\u001b[0m",
      "\u001b[1;31mValueError\u001b[0m                                Traceback (most recent call last)",
      "Cell \u001b[1;32mIn [6], line 62\u001b[0m\n\u001b[0;32m     58\u001b[0m         \u001b[39m# print(guess)\u001b[39;00m\n\u001b[0;32m     60\u001b[0m     \u001b[39mprint\u001b[39m(\u001b[39mf\u001b[39m\u001b[39m\"\u001b[39m\u001b[39mThe word is \u001b[39m\u001b[39m'\u001b[39m\u001b[39m{\u001b[39;00mcandidate_words[\u001b[39m0\u001b[39m]\u001b[39m}\u001b[39;00m\u001b[39m'\u001b[39m\u001b[39m.\u001b[39m\u001b[39m\"\u001b[39m)\n\u001b[1;32m---> 62\u001b[0m play_game()\n",
      "Cell \u001b[1;32mIn [6], line 49\u001b[0m, in \u001b[0;36mplay_game\u001b[1;34m()\u001b[0m\n\u001b[0;32m     46\u001b[0m \u001b[39m# print(guess)\u001b[39;00m\n\u001b[0;32m     48\u001b[0m \u001b[39mwhile\u001b[39;00m \u001b[39mlen\u001b[39m(candidate_words) \u001b[39m>\u001b[39m \u001b[39m1\u001b[39m:\n\u001b[1;32m---> 49\u001b[0m     greens, yellows \u001b[39m=\u001b[39m get_feedback(guess)\n\u001b[0;32m     50\u001b[0m     candidate_words \u001b[39m=\u001b[39m filter_words(candidate_words, guess, greens, yellows)\n\u001b[0;32m     51\u001b[0m     \u001b[39mprint\u001b[39m((\u001b[39m\"\u001b[39m\u001b[39mGuesses left: \u001b[39m\u001b[39m\"\u001b[39m\u001b[39m+\u001b[39m\u001b[39mstr\u001b[39m(\u001b[39mlen\u001b[39m(candidate_words))))\n",
      "Cell \u001b[1;32mIn [6], line 22\u001b[0m, in \u001b[0;36mget_feedback\u001b[1;34m(guess)\u001b[0m\n\u001b[0;32m     20\u001b[0m greens \u001b[39m=\u001b[39m \u001b[39minput\u001b[39m(\u001b[39m\"\u001b[39m\u001b[39mEnter the number of green letters: \u001b[39m\u001b[39m\"\u001b[39m)\n\u001b[0;32m     21\u001b[0m yellows \u001b[39m=\u001b[39m \u001b[39minput\u001b[39m(\u001b[39m\"\u001b[39m\u001b[39mEnter the number of yellow letters: \u001b[39m\u001b[39m\"\u001b[39m)\n\u001b[1;32m---> 22\u001b[0m \u001b[39mreturn\u001b[39;00m \u001b[39mint\u001b[39;49m(greens), \u001b[39mint\u001b[39m(yellows)\n",
      "\u001b[1;31mValueError\u001b[0m: invalid literal for int() with base 10: ''"
     ]
    }
   ],
   "source": [
    "import random\n",
    "\n",
    "# Load a dictionary of 5-letter words\n",
    "with open('all_wordle_words.txt', 'r') as f:\n",
    "    wordlist = [line.strip() for line in f]\n",
    "english_words_alpha = wordlist.copy()\n",
    "english_words_alpha_set = set(english_words_alpha)\n",
    "\n",
    "# Define the length of the target word\n",
    "WORD_LENGTH = 5\n",
    "\n",
    "def get_candidate_words():\n",
    "    candidate_words = []\n",
    "    for word in english_words_alpha_set:\n",
    "        if len(word) == WORD_LENGTH:\n",
    "            candidate_words.append(word)\n",
    "    return candidate_words\n",
    "\n",
    "def get_feedback(guess):\n",
    "    greens = input(\"Enter the number of green letters: \")\n",
    "    yellows = input(\"Enter the number of yellow letters: \")\n",
    "    return int(greens), int(yellows)\n",
    "\n",
    "def filter_words(candidate_words, guess, greens, yellows):\n",
    "    remaining_words = []\n",
    "    for word in candidate_words:\n",
    "        if (sum([1 for i in range(WORD_LENGTH) if word[i] == guess[i]]) == greens\n",
    "            and sum([1 for i in range(WORD_LENGTH) if word[i] != guess[i] and word[i] in guess]) == yellows):\n",
    "            remaining_words.append(word)\n",
    "    return remaining_words\n",
    "\n",
    "def select_word(candidate_words):\n",
    "    if (len(candidate_words)==len(english_words_alpha)):\n",
    "        candidate_words.remove('adept')\n",
    "        a = 'adept'\n",
    "        print(a)\n",
    "        return 'adept'\n",
    "    else:\n",
    "        a=random.choice(candidate_words)\n",
    "        print(a)\n",
    "        return a\n",
    "\n",
    "def play_game():\n",
    "    candidate_words = get_candidate_words()\n",
    "    guess = select_word(candidate_words)\n",
    "    # print(guess)\n",
    "    \n",
    "    while len(candidate_words) > 1:\n",
    "        greens, yellows = get_feedback(guess)\n",
    "        candidate_words = filter_words(candidate_words, guess, greens, yellows)\n",
    "        print((\"Guesses left: \"+str(len(candidate_words))))\n",
    "        \n",
    "        if len(candidate_words) == 0:\n",
    "            print(\"No candidate words left! The game is over.\")\n",
    "            return\n",
    "        \n",
    "        guess = select_word(candidate_words)\n",
    "        # print(guess)\n",
    "        \n",
    "    print(f\"The word is '{candidate_words[0]}'.\")\n",
    "    \n",
    "play_game()"
   ]
  }
 ],
 "metadata": {
  "kernelspec": {
   "display_name": "Python 3",
   "language": "python",
   "name": "python3"
  },
  "language_info": {
   "codemirror_mode": {
    "name": "ipython",
    "version": 3
   },
   "file_extension": ".py",
   "mimetype": "text/x-python",
   "name": "python",
   "nbconvert_exporter": "python",
   "pygments_lexer": "ipython3",
   "version": "3.10.8"
  },
  "orig_nbformat": 4,
  "vscode": {
   "interpreter": {
    "hash": "4d536800d27c51602b26d7e23a7b347bd37d1d65ee7fdd104b4efc2c92c4d087"
   }
  }
 },
 "nbformat": 4,
 "nbformat_minor": 2
}
